{
 "cells": [
  {
   "cell_type": "markdown",
   "id": "748c969b-0889-4ba1-9d95-4ed74faf7b63",
   "metadata": {},
   "source": [
    "# Data Science Tools and Ecosystem"
   ]
  },
  {
   "cell_type": "markdown",
   "id": "a05c982d-ccc6-4a7a-95c3-04e4fc77f970",
   "metadata": {},
   "source": [
    "In this notebook Data Science Tools and Ecosystem are summarized."
   ]
  },
  {
   "cell_type": "markdown",
   "id": "256dd0a5-4d35-45fd-bc74-0fbce04b87c6",
   "metadata": {},
   "source": [
    "**Objectives:**\n",
    "-  This notebook covered different languages used by Data Scientists.\n",
    "-  This notebook covered different tools used by Data Scientists.\n",
    "-  This notebook covered different libraries used by data Scientists.\n",
    "-  This book covered different types of functions that can be executed by using Python."
   ]
  },
  {
   "cell_type": "markdown",
   "id": "4233fcb5-0b93-472a-a0dc-2f783a8c83ff",
   "metadata": {},
   "source": [
    "Some of the popular languages that Data Scientists use are:"
   ]
  },
  {
   "cell_type": "markdown",
   "id": "b9db662f-3c89-4e26-b0d9-0b3dd3d667f4",
   "metadata": {},
   "source": [
    "1. Python\n",
    "2. R\n",
    "3. Javascript"
   ]
  },
  {
   "cell_type": "markdown",
   "id": "f9460295-bdfb-428c-b96e-84a90b0dfb5c",
   "metadata": {},
   "source": [
    "Some of the commonly used libraries by Data Scientists are:"
   ]
  },
  {
   "cell_type": "markdown",
   "id": "6c8226db-1f4e-42f4-ab34-caf77114ff35",
   "metadata": {},
   "source": [
    "1. Scikit Learn\n",
    "2. tensorFlow\n",
    "3. PyTorch"
   ]
  },
  {
   "cell_type": "markdown",
   "id": "4ee56c3f-b71b-4dc5-9834-d9352d1a2aac",
   "metadata": {},
   "source": [
    "## Data Science Tools\n",
    "1. Watson Studio\n",
    "2. H2O.ai\n",
    "3. Watson OpenScale"
   ]
  },
  {
   "cell_type": "markdown",
   "id": "86dd86d4-2bcc-49cb-80e6-5d4c1035e513",
   "metadata": {},
   "source": [
    "### Below are a few expressions for arithmetic expression in Python"
   ]
  },
  {
   "cell_type": "code",
   "execution_count": 4,
   "id": "2990e599-9dda-4d5c-ad82-f4a82eecab73",
   "metadata": {
    "tags": []
   },
   "outputs": [
    {
     "data": {
      "text/plain": [
       "17"
      ]
     },
     "execution_count": 4,
     "metadata": {},
     "output_type": "execute_result"
    }
   ],
   "source": [
    "##This is a simpple arithmetic expression to multiply and then add integers\n",
    "(3*4)+5"
   ]
  },
  {
   "cell_type": "code",
   "execution_count": 7,
   "id": "d3ed3b3c-9c67-475e-bac1-33a3d0c2c773",
   "metadata": {
    "tags": []
   },
   "outputs": [
    {
     "name": "stdout",
     "output_type": "stream",
     "text": [
      "3.3333333333333335\n"
     ]
    }
   ],
   "source": [
    "##This will convert minutes into hours by dividing them by 60\n",
    "# A is time in minutes and B is time in hours\n",
    "A=200\n",
    "B=A/60\n",
    "print(B)"
   ]
  },
  {
   "cell_type": "markdown",
   "id": "6476974e-879b-4c23-96dc-e30d1158c7aa",
   "metadata": {},
   "source": [
    "## Author\n",
    "Manosij Samadder"
   ]
  },
  {
   "cell_type": "code",
   "execution_count": null,
   "id": "51ea4f44-fb1b-4b08-9107-48de9683dc52",
   "metadata": {},
   "outputs": [],
   "source": []
  }
 ],
 "metadata": {
  "kernelspec": {
   "display_name": "Python",
   "language": "python",
   "name": "conda-env-python-py"
  },
  "language_info": {
   "codemirror_mode": {
    "name": "ipython",
    "version": 3
   },
   "file_extension": ".py",
   "mimetype": "text/x-python",
   "name": "python",
   "nbconvert_exporter": "python",
   "pygments_lexer": "ipython3",
   "version": "3.7.12"
  }
 },
 "nbformat": 4,
 "nbformat_minor": 5
}
